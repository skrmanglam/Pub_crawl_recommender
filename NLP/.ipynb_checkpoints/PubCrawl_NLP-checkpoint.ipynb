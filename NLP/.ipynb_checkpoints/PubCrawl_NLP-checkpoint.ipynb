{
 "cells": [
  {
   "cell_type": "code",
   "execution_count": 28,
   "id": "52c4baf3",
   "metadata": {},
   "outputs": [],
   "source": [
    "#import dependencies\n",
    "import pandas as pd\n",
    "import numpy as np\n",
    "import matplotlib.pyplot as plt\n",
    "%matplotlib inline"
   ]
  },
  {
   "cell_type": "code",
   "execution_count": 7,
   "id": "2d4973d9",
   "metadata": {},
   "outputs": [],
   "source": [
    "df = pd.read_excel(\"night_clubs_data.xlsx\")"
   ]
  },
  {
   "cell_type": "code",
   "execution_count": 8,
   "id": "40c07b4a",
   "metadata": {},
   "outputs": [
    {
     "data": {
      "text/html": [
       "<div>\n",
       "<style scoped>\n",
       "    .dataframe tbody tr th:only-of-type {\n",
       "        vertical-align: middle;\n",
       "    }\n",
       "\n",
       "    .dataframe tbody tr th {\n",
       "        vertical-align: top;\n",
       "    }\n",
       "\n",
       "    .dataframe thead th {\n",
       "        text-align: right;\n",
       "    }\n",
       "</style>\n",
       "<table border=\"1\" class=\"dataframe\">\n",
       "  <thead>\n",
       "    <tr style=\"text-align: right;\">\n",
       "      <th></th>\n",
       "      <th>Club Name</th>\n",
       "      <th>Rating</th>\n",
       "      <th>Review</th>\n",
       "      <th>Open Time</th>\n",
       "      <th>Close Time</th>\n",
       "      <th>Latitude</th>\n",
       "      <th>Longitude</th>\n",
       "    </tr>\n",
       "  </thead>\n",
       "  <tbody>\n",
       "    <tr>\n",
       "      <th>0</th>\n",
       "      <td>The Electric Beat</td>\n",
       "      <td>4.6</td>\n",
       "      <td>What an electric atmosphere! The DJ kept the d...</td>\n",
       "      <td>22:00:00</td>\n",
       "      <td>03:00:00</td>\n",
       "      <td>53.2716</td>\n",
       "      <td>-9.0572</td>\n",
       "    </tr>\n",
       "    <tr>\n",
       "      <th>1</th>\n",
       "      <td>The Electric Beat</td>\n",
       "      <td>4.6</td>\n",
       "      <td>The music at The Electric Beat was pumping,and...</td>\n",
       "      <td>22:00:00</td>\n",
       "      <td>03:00:00</td>\n",
       "      <td>53.2716</td>\n",
       "      <td>-9.0572</td>\n",
       "    </tr>\n",
       "    <tr>\n",
       "      <th>2</th>\n",
       "      <td>The Electric Beat</td>\n",
       "      <td>4.6</td>\n",
       "      <td>I've been to many clubs,but The Electric Beat ...</td>\n",
       "      <td>22:00:00</td>\n",
       "      <td>03:00:00</td>\n",
       "      <td>53.2716</td>\n",
       "      <td>-9.0572</td>\n",
       "    </tr>\n",
       "    <tr>\n",
       "      <th>3</th>\n",
       "      <td>The Electric Beat</td>\n",
       "      <td>4.6</td>\n",
       "      <td>The Electric Beat has the best sound system. T...</td>\n",
       "      <td>22:00:00</td>\n",
       "      <td>03:00:00</td>\n",
       "      <td>53.2716</td>\n",
       "      <td>-9.0572</td>\n",
       "    </tr>\n",
       "    <tr>\n",
       "      <th>4</th>\n",
       "      <td>The Electric Beat</td>\n",
       "      <td>4.6</td>\n",
       "      <td>The Electric Beat is the place where I forget ...</td>\n",
       "      <td>22:00:00</td>\n",
       "      <td>03:00:00</td>\n",
       "      <td>53.2716</td>\n",
       "      <td>-9.0572</td>\n",
       "    </tr>\n",
       "  </tbody>\n",
       "</table>\n",
       "</div>"
      ],
      "text/plain": [
       "           Club Name  Rating  \\\n",
       "0  The Electric Beat     4.6   \n",
       "1  The Electric Beat     4.6   \n",
       "2  The Electric Beat     4.6   \n",
       "3  The Electric Beat     4.6   \n",
       "4  The Electric Beat     4.6   \n",
       "\n",
       "                                              Review Open Time Close Time  \\\n",
       "0  What an electric atmosphere! The DJ kept the d...  22:00:00   03:00:00   \n",
       "1  The music at The Electric Beat was pumping,and...  22:00:00   03:00:00   \n",
       "2  I've been to many clubs,but The Electric Beat ...  22:00:00   03:00:00   \n",
       "3  The Electric Beat has the best sound system. T...  22:00:00   03:00:00   \n",
       "4  The Electric Beat is the place where I forget ...  22:00:00   03:00:00   \n",
       "\n",
       "   Latitude  Longitude  \n",
       "0   53.2716    -9.0572  \n",
       "1   53.2716    -9.0572  \n",
       "2   53.2716    -9.0572  \n",
       "3   53.2716    -9.0572  \n",
       "4   53.2716    -9.0572  "
      ]
     },
     "execution_count": 8,
     "metadata": {},
     "output_type": "execute_result"
    }
   ],
   "source": [
    "df.head()"
   ]
  },
  {
   "cell_type": "code",
   "execution_count": 14,
   "id": "14086a04",
   "metadata": {},
   "outputs": [
    {
     "name": "stdout",
     "output_type": "stream",
     "text": [
      "Number of Unique Club names: 17\n",
      "The Electric Beat\n",
      "The Midnight Groove\n",
      "The Groovy Den\n",
      "Galway Rhythms Club\n",
      "Galway Beats Club\n",
      "Galway Vibes Club\n",
      "The Dough Bros\n",
      "Galaxy Club\n",
      "Cava Bodega\n",
      "Kai Restaurant\n",
      "The Neon Lounge\n",
      "The Pulse Club\n",
      "Club Vibe\n",
      "The Groove Lounge\n",
      "The Midnight Rhythm\n",
      "The Enchanted Beats\n",
      "Galactic Grooves\n"
     ]
    }
   ],
   "source": [
    "Unq_club_names = df['Club Name'].unique()\n",
    "print('Number of Unique Club names:', len(Unq_club_names))\n",
    "for names in Unq_club_names:\n",
    "    print(names)"
   ]
  },
  {
   "cell_type": "code",
   "execution_count": 22,
   "id": "6f482656",
   "metadata": {},
   "outputs": [
    {
     "name": "stdout",
     "output_type": "stream",
     "text": [
      "Average length of the reiews is 78.30635838150289 chars\n"
     ]
    }
   ],
   "source": [
    "# average length of the review column\n",
    "reviews = df['Review']\n",
    "avg_len = sum(len(s) for s in reviews)/ len(reviews)\n",
    "print(f'Average length of the reiews is {avg_len} chars')"
   ]
  },
  {
   "cell_type": "code",
   "execution_count": 35,
   "id": "c8c0af27",
   "metadata": {},
   "outputs": [
    {
     "data": {
      "image/png": "[encoded data removed]",
      "text/plain": [
       "<Figure size 800x600 with 1 Axes>"
      ]
     },
     "metadata": {},
     "output_type": "display_data"
    }
   ],
   "source": [
    "#calculating avg char length per column\n",
    "avg_lens = df[\"Review\"].apply(len)\n",
    "\n",
    "# Box plot to visualize the distribution of average character lengths\n",
    "plt.figure(figsize=(8, 6))\n",
    "plt.boxplot(avg_lens)\n",
    "plt.title(\"Distribution of Average Character Lengths in 'Review' Column\")\n",
    "plt.ylabel(\"Average Character Length\")\n",
    "plt.tight_layout()\n",
    "plt.show()"
   ]
  },
  {
   "cell_type": "code",
   "execution_count": 19,
   "id": "b07db8ce",
   "metadata": {},
   "outputs": [
    {
     "name": "stdout",
     "output_type": "stream",
     "text": [
      "Average Rating:4.580732177263968, Minimum Rating:4.2, Maximum rating:4.9\n"
     ]
    }
   ],
   "source": [
    "# baseline rating\n",
    "avg_rating = df['Rating'].mean()\n",
    "min_rating = df['Rating'].min()\n",
    "max_rating = df['Rating'].max()\n",
    "print(f'Average Rating:{avg_rating}, Minimum Rating:{min_rating}, Maximum rating:{max_rating}')"
   ]
  },
  {
   "cell_type": "code",
   "execution_count": null,
   "id": "b7094268",
   "metadata": {},
   "outputs": [],
   "source": [
    "#avg open and closing times"
   ]
  }
 ],
 "metadata": {
  "kernelspec": {
   "display_name": "Python 3 (ipykernel)",
   "language": "python",
   "name": "python3"
  },
  "language_info": {
   "codemirror_mode": {
    "name": "ipython",
    "version": 3
   },
   "file_extension": ".py",
   "mimetype": "text/x-python",
   "name": "python",
   "nbconvert_exporter": "python",
   "pygments_lexer": "ipython3",
   "version": "3.10.11"
  }
 },
 "nbformat": 4,
 "nbformat_minor": 5
}
