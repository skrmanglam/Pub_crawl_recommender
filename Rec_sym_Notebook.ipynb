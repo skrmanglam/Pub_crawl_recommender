{
 "cells": [
  {
   "cell_type": "markdown",
   "id": "b64af160",
   "metadata": {},
   "source": [
    "# Recommender Systems"
   ]
  },
  {
   "cell_type": "markdown",
   "id": "1b98dc8c",
   "metadata": {},
   "source": [
    "Problem : Use reviews on Gmap other publically available forums like trip advisior to find the nearest and best pub availbale and charta shortest path to it."
   ]
  },
  {
   "cell_type": "markdown",
   "id": "a885f06c",
   "metadata": {},
   "source": [
    "# Define Search radius"
   ]
  },
  {
   "cell_type": "markdown",
   "id": "c7125f75",
   "metadata": {},
   "source": [
    "Input can be taken from the user or location can be fetched from the apps. Search radius can be defined by a query from a user or by assuming it to be 5 kms."
   ]
  },
  {
   "cell_type": "markdown",
   "id": "3951ac9d",
   "metadata": {},
   "source": [
    "# Searching for Pubs in that area"
   ]
  },
  {
   "cell_type": "markdown",
   "id": "6c990cf4",
   "metadata": {},
   "source": [
    "Search all the pubs available in that area. And download the following from gmaps api:\n",
    "1) Ratings\n",
    "2) Reviews\n",
    "3) Time line of how busy the pub is during the time of day"
   ]
  },
  {
   "cell_type": "markdown",
   "id": "2c7e86c1",
   "metadata": {},
   "source": [
    "**Normalize the ratings of the pubs.**\n",
    "\n",
    "Come up with an algorithm which boosts the pub having higher number of ratings than a pub which has higher rating from just a couple of people."
   ]
  },
  {
   "cell_type": "markdown",
   "id": "41ddcd71",
   "metadata": {},
   "source": [
    "# Utilizing the ratings for NLP"
   ]
  },
  {
   "cell_type": "markdown",
   "id": "20f534e0",
   "metadata": {},
   "source": [
    "- Simplest approach is use to search for query terms in database for all the pubs in the radius like:\n",
    "    - Happy place\n",
    "    - Cheap\n",
    "    - Fun\n",
    "    - Good\n",
    "    - Ambience\n",
    "    - Beer\n",
    "    - Live music\n",
    "    \n",
    "    etc. TF/IDF can be used for uery retrival problem.\n",
    "    \n",
    "- Word2Vec can be utilized for searching for similarity in the Embedding space. (Query matching in vector space)\n",
    "\n",
    "- Sentiment analysis of reviews.\n",
    "\n",
    "- Aspect based sentiment analysis of the pubs and recommending pubs based on buzz words found in the review which have similar meaning.\n",
    "\n",
    "- Recommending people what's the best time to visit comsidering usual busier times."
   ]
  },
  {
   "cell_type": "code",
   "execution_count": null,
   "id": "23b77d15",
   "metadata": {},
   "outputs": [],
   "source": []
  }
 ],
 "metadata": {
  "kernelspec": {
   "display_name": "Python 3 (ipykernel)",
   "language": "python",
   "name": "python3"
  },
  "language_info": {
   "codemirror_mode": {
    "name": "ipython",
    "version": 3
   },
   "file_extension": ".py",
   "mimetype": "text/x-python",
   "name": "python",
   "nbconvert_exporter": "python",
   "pygments_lexer": "ipython3",
   "version": "3.9.16"
  }
 },
 "nbformat": 4,
 "nbformat_minor": 5
}
